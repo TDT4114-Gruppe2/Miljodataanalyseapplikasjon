{
 "cells": [
  {
   "cell_type": "markdown",
   "id": "00c35f4d",
   "metadata": {},
   "source": [
    "# Gjør JSON-data om til CSV ved å undersøke DataFrame\n",
    "\n",
    "## 1. Felles import for alle kodeblokker"
   ]
  },
  {
   "cell_type": "code",
   "execution_count": 1,
   "id": "e0fc95bf",
   "metadata": {},
   "outputs": [],
   "source": [
    "import sys\n",
    "\n",
    "sys.path.append('../../src/handleData')\n",
    "\n",
    "from weatherconverter import WeatherConverter\n",
    "from temperaturechange import TemperatureRangeConverter"
   ]
  },
  {
   "cell_type": "markdown",
   "id": "5aa17918",
   "metadata": {},
   "source": [
    "## 2. Last inn og konverter JSON -> DataFrame"
   ]
  },
  {
   "cell_type": "code",
   "execution_count": 2,
   "id": "1e04c8fb",
   "metadata": {},
   "outputs": [
    {
     "name": "stdout",
     "output_type": "stream",
     "text": [
      "JSON-data lastet inn.\n",
      "DataFrame opprettet.\n",
      "    sourceId  num_entries\n",
      "0  SN18700:0        74816\n",
      "1  SN90450:0        75093\n"
     ]
    }
   ],
   "source": [
    "json_path = \"../../data/raw/vaerdata.json\"\n",
    "output_dir = \"../../data/processed\"\n",
    "\n",
    "converter = WeatherConverter(json_path, output_dir)\n",
    "data = converter.load_data()\n",
    "converter.convert_to_dataframe()\n",
    "converter.run_queries()"
   ]
  },
  {
   "cell_type": "markdown",
   "id": "00ccf4d2",
   "metadata": {},
   "source": [
    "## 3. Lagre data til .csv i data/processed"
   ]
  },
  {
   "cell_type": "code",
   "execution_count": 3,
   "id": "c1b3c0f8",
   "metadata": {},
   "outputs": [
    {
     "name": "stdout",
     "output_type": "stream",
     "text": [
      "Lagrer data for Tromso til: ../../data/processed/vaerdata_tromso.csv\n",
      "Lagrer data for Oslo til: ../../data/processed/vaerdata_oslo.csv\n"
     ]
    }
   ],
   "source": [
    "converter.save_city_data()"
   ]
  },
  {
   "cell_type": "markdown",
   "id": "446e1e26",
   "metadata": {},
   "source": [
    "## 4. (Valgfritt) Legg på temperatur-range"
   ]
  },
  {
   "cell_type": "code",
   "execution_count": 4,
   "id": "20f1ebec",
   "metadata": {},
   "outputs": [
    {
     "name": "stdout",
     "output_type": "stream",
     "text": [
      "Oppdatert fil: ../../data/processed/vaerdata_oslo.csv\n",
      "Oppdatert fil: ../../data/processed/vaerdata_tromso.csv\n"
     ]
    }
   ],
   "source": [
    "range_converter = TemperatureRangeConverter(output_dir)\n",
    "range_converter.run()"
   ]
  }
 ],
 "metadata": {
  "kernelspec": {
   "display_name": "venv",
   "language": "python",
   "name": "python3"
  },
  "language_info": {
   "codemirror_mode": {
    "name": "ipython",
    "version": 3
   },
   "file_extension": ".py",
   "mimetype": "text/x-python",
   "name": "python",
   "nbconvert_exporter": "python",
   "pygments_lexer": "ipython3",
   "version": "3.13.2"
  }
 },
 "nbformat": 4,
 "nbformat_minor": 5
}
