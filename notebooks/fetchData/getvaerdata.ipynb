{
 "cells": [
  {
   "cell_type": "markdown",
   "id": "c8750e53",
   "metadata": {},
   "source": [
    "# Hent værdata for Oslo og Tromsø og skriv til JSON i data/raw\n",
    "\n",
    "## 1. Felles import for alle kodeblokker"
   ]
  },
  {
   "cell_type": "code",
   "execution_count": 1,
   "id": "06f8acbd",
   "metadata": {},
   "outputs": [],
   "source": [
    "import os\n",
    "import sys\n",
    "\n",
    "from dotenv import load_dotenv\n",
    "\n",
    "sys.path.append(\"../../src/fetchData\")\n",
    "\n",
    "from fetchvaerdata import WeatherFetcher"
   ]
  },
  {
   "cell_type": "markdown",
   "id": "e49163ad",
   "metadata": {},
   "source": [
    "## 2. Last inn miljøvariabler"
   ]
  },
  {
   "cell_type": "code",
   "execution_count": 2,
   "id": "e438ae77",
   "metadata": {},
   "outputs": [],
   "source": [
    "env_file = \"../../../.env\"\n",
    "load_dotenv(env_file)\n",
    "\n",
    "client_id = os.getenv(\"CLIENT_ID\")\n",
    "if client_id is None:\n",
    "    raise RuntimeError(\"CLIENT_ID ikke funnet i miljøvariablene.\")\n"
   ]
  },
  {
   "cell_type": "markdown",
   "id": "d5c9587b",
   "metadata": {},
   "source": [
    "## 3. Hent og parse værdata"
   ]
  },
  {
   "cell_type": "code",
   "execution_count": 3,
   "id": "f8388c11",
   "metadata": {},
   "outputs": [],
   "source": [
    "weather_fetcher = WeatherFetcher(client_id)\n",
    "data = weather_fetcher.fetch_weather_data()\n"
   ]
  },
  {
   "cell_type": "markdown",
   "id": "f1aeda44",
   "metadata": {},
   "source": [
    "## 4. Skriv til fil og bekreft"
   ]
  },
  {
   "cell_type": "code",
   "execution_count": 4,
   "id": "3b3ae6c4",
   "metadata": {},
   "outputs": [
    {
     "name": "stdout",
     "output_type": "stream",
     "text": [
      "Data lagret til ../../data/raw/vaerdata.json\n"
     ]
    }
   ],
   "source": [
    "output_file = \"../../data/raw/vaerdata.json\"\n",
    "weather_fetcher.write_json_to_file(data, output_file)\n",
    "\n",
    "print(f\"Data lagret til {output_file}\")\n"
   ]
  }
 ],
 "metadata": {
  "kernelspec": {
   "display_name": ".venv",
   "language": "python",
   "name": "python3"
  },
  "language_info": {
   "codemirror_mode": {
    "name": "ipython",
    "version": 3
   },
   "file_extension": ".py",
   "mimetype": "text/x-python",
   "name": "python",
   "nbconvert_exporter": "python",
   "pygments_lexer": "ipython3",
   "version": "3.11.9"
  }
 },
 "nbformat": 4,
 "nbformat_minor": 5
}
