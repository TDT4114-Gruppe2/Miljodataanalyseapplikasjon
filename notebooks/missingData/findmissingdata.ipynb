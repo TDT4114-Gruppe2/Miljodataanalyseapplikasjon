{
 "cells": [
  {
   "cell_type": "markdown",
   "id": "ad2e6c32",
   "metadata": {},
   "source": [
    "# Vis manglende data i CSV og skriv til data/missing\n",
    "\n",
    "## 1. Felles import for alle kodeblokker"
   ]
  },
  {
   "cell_type": "code",
   "execution_count": 1,
   "id": "a8773886",
   "metadata": {},
   "outputs": [],
   "source": [
    "from missingdatafinder import MissingWeatherDataAnalyzer"
   ]
  },
  {
   "cell_type": "markdown",
   "id": "c73ddcef",
   "metadata": {},
   "source": [
    "## 2. Definer inngangs- og utgangs-stier"
   ]
  },
  {
   "cell_type": "code",
   "execution_count": 2,
   "id": "428f34a3",
   "metadata": {},
   "outputs": [],
   "source": [
    "oslo_path = \"../../data/processed/vaerdata_oslo.csv\"\n",
    "tromso_path = \"../../data/processed/vaerdata_tromso.csv\"\n",
    "output_dir = \"../../data/missing\""
   ]
  },
  {
   "cell_type": "markdown",
   "id": "5254d17b",
   "metadata": {},
   "source": [
    "## 3. Initialiser og kjør analyse-stegene"
   ]
  },
  {
   "cell_type": "code",
   "execution_count": 3,
   "id": "3aac4169",
   "metadata": {},
   "outputs": [],
   "source": [
    "analyzer = MissingWeatherDataAnalyzer(\n",
    "    oslo_path,\n",
    "    tromso_path,\n",
    "    output_dir,\n",
    ")\n",
    "analyzer.load_data()\n",
    "analyzer.identify_missing()"
   ]
  },
  {
   "cell_type": "markdown",
   "id": "fb32d21b",
   "metadata": {},
   "source": [
    "## 4. Lagre resultatene"
   ]
  },
  {
   "cell_type": "code",
   "execution_count": 4,
   "id": "1beed2a8",
   "metadata": {},
   "outputs": [
    {
     "name": "stdout",
     "output_type": "stream",
     "text": [
      "Ferdig! Følgende CSV-filer er opprettet:\n",
      " - ../../data/missing/missing_in_both.csv\n",
      " - ../../data/missing/missing_summary.csv\n"
     ]
    }
   ],
   "source": [
    "analyzer.save_missing_data()"
   ]
  }
 ],
 "metadata": {
  "kernelspec": {
   "display_name": "venv",
   "language": "python",
   "name": "python3"
  },
  "language_info": {
   "codemirror_mode": {
    "name": "ipython",
    "version": 3
   },
   "file_extension": ".py",
   "mimetype": "text/x-python",
   "name": "python",
   "nbconvert_exporter": "python",
   "pygments_lexer": "ipython3",
   "version": "3.13.2"
  }
 },
 "nbformat": 4,
 "nbformat_minor": 5
}
