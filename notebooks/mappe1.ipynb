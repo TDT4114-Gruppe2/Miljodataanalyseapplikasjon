{
 "cells": [
  {
   "cell_type": "markdown",
   "metadata": {},
   "source": [
    "# Mappe del 1\n",
    "\n",
    "## Overordnet\n",
    "\n",
    "I første del av mappen har vi satt opp et utviklingsmiljø, hentet inn data fra Meteorologisk institutt og formatert det til å vise det vi anså som nødvendig og interessante data.\n",
    "\n",
    "## Oppgave 1\n",
    "I første oppgaven har vi satt opp et utviklingsmiljø. Da opprettet vi en organisasjon i GitHub, inviterte alle medlemmer inn i organisasjonen og laget et repository for prosjektet. Her startet vi med å legge inn filer for å sette opp mappestrukturen. Etter at vi fikk tilgang til en template for prosjektet la vi inn nødvendige filer vi ikke allerede hadde lagt inn, og testet miljøet.\n",
    "\n",
    "For at alle skulle henge med og ha kontroll på hvordan prosjektet lå an begynte vi tidlig med implementering av branches, blant annet main og dev branch. Dette overholder en konsistent prosess i arbeidet som forhindrer at feil blir publisert i hovedkoden. Vi jobber kontinuerlig med å opprettholde oversikt og forsøker å bruke branches aktivt for å fikse problemer eller legge til nye features. Vi tok i bruk issues tidlig, og etter hvert også å lage branches ut ifra issues. Dette gjør det mer sømløst å benytte issues. Dersom noen oppdager feil i prosjektet skal dette legges inn som issue eller fikses samtidig som personen oppdager det.\n",
    "\n",
    "## Oppgave 2\n",
    "\n",
    "I oppgave 2 henter vi ut data fra et API. Vi valgte å beytte oss av Frost-API fra met.no som har mange forskjellige målinger vi kan hente ut. Grunnen til at vi valgte Metorologisk institutt sin API er fordi de der er en offisiell og anerkjent aktør innen metorologiske observasjoner og fordi det er lett å hente ut data fra API-et. Vi anser MET til å ha høy autoritet, høy datakvalitet og derfor å være en god kilde til værdata.\n",
    "\n",
    "For å få tilgang til API-et opprettet vi en bruker på developer.yr.no og benyttet oss av en klient-ID. Klient-ID-en ble lagret i en .env-fil, som er 'best practice' for håndtering av sensitive data.\n",
    "\n",
    "Data fra 2000-2024 fra Tromsø og Oslo (Blindern) hentes altså ut fra API-et med en Python-kode som fremstiller dataene på JSON-format i vaerdata.json. Videre sjekker readvaerdata.py om JSON-filen har feil eller mangler og viser eventuelt relevante feilmeldinger. Dersom JSON-filen ikke har feil eller mangler skriver den ut antall poster i filen, filtrerer ut ønsket info fra filen og viser 5 rader på det nye formatet. Den viser også alle unike målestasjoner, antall poster med eventuelle manglende verdier, antall poster per lokasjon og konverterer til slutt dataene til en CSV-fil for hver av målestasjonene.\n",
    "\n",
    "## Oppgave 3\n",
    "\n",
    "I oppgave 3 bygger vi videre på koden og datahåndteringen fra oppgave 2 og formaterer de på en mer hensiktsmessig måte. Her oppdaget vi en feil i antall poster per lokasjon. For å finne ut hvor forskjellen lå kjørte vi en rekke tester. Da kjørte vi spørringer som antall unike dager med registrerte poster for hver lokasjon, totale føringer per lokasjon og andre relevante tester for å forstå feilen, men slettet spørringene som ikke ga relevant info i etterkant.\n",
    "\n",
    "Selve feilhåndteringen av dataene skjer i CSV-konverteringen. Ved å skrive dataene over til CSV føres kun opp poster med verdier for hver av lokasjonene. Det inkluderes altså ikke rader uten verdier i CSV-filen. Da vil vi senere i prosjektet kunne plotte kun de verdiene vi har slik at kun verdier som finnes blir tatt med i analysen.\n",
    "\n",
    "For å få en komplett oversikt over manglende verdier printer vi disse ut i to forskjellige CSV-filer; én som viser alle poster som mangler verdier og én som viser hvor mange verdier hvert element mangler.\n",
    "\n",
    "I tillegg implementerte vi enhetstester for hver python-fil. Dette gjorde vi for å kunne avdekke eventuelle feil som skulle oppstå om vi senere endrer koden."
   ]
  }
 ],
 "metadata": {
  "kernelspec": {
   "display_name": "Python 3",
   "language": "python",
   "name": "python3"
  },
  "language_info": {
   "codemirror_mode": {
    "name": "ipython",
    "version": 3
   },
   "file_extension": ".py",
   "mimetype": "text/x-python",
   "name": "python",
   "nbconvert_exporter": "python",
   "pygments_lexer": "ipython3",
   "version": "3.11.5"
  }
 },
 "nbformat": 4,
 "nbformat_minor": 2
}
