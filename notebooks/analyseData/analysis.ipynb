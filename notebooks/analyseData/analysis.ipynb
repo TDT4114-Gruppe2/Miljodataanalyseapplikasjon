{
 "cells": [
  {
   "cell_type": "markdown",
   "id": "40182a63",
   "metadata": {},
   "source": [
    "# Analyse av datasett\n",
    "Notebooken bruker funksjoner fra klassene i analyseData-mappen og viser eksempler\n",
    "på bruksområdet av de forskjellige funksjonene"
   ]
  },
  {
   "cell_type": "markdown",
   "id": "98349de7",
   "metadata": {},
   "source": [
    "## Felles import for alle kodeblokker"
   ]
  },
  {
   "cell_type": "code",
   "execution_count": 1,
   "id": "0f850fc7",
   "metadata": {},
   "outputs": [],
   "source": [
    "import sys\n",
    "\n",
    "# Sørger for at vi alltid importerer fra ../analyseData,\n",
    "# i tilfelle denne cellen kjøres flere ganger ettersom\n",
    "# at arbeidsmappen er endret til ../missingData senere.\n",
    "sys.path.append(\"../../src/analyseData\")\n",
    "\n",
    "from yearlystats import YearlyStats\n",
    "from outlieranalysis import OutlierAnalysis\n",
    "from monthlystats import MonthlyStats\n",
    "\n",
    "ms = MonthlyStats(\"../../data/processed\")\n",
    "ys = YearlyStats(\"../../data/processed\")\n",
    "oa = OutlierAnalysis(\"../../data/processed\")\n",
    "\n",
    "# Import er delt i to da de henter fra forskjellige mapper\n",
    "sys.path.append(\"../../src/missingData\")\n",
    "from missingdatafinder import MissingDataConverter\n",
    "missing = MissingDataConverter()"
   ]
  },
  {
   "cell_type": "markdown",
   "id": "7cd8ba78",
   "metadata": {},
   "source": [
    "## Eksempel koder på bruk av analyse funksjonene"
   ]
  },
  {
   "cell_type": "markdown",
   "id": "d82a611f",
   "metadata": {},
   "source": [
    "### Viser statistikk ved en eller alle måneder"
   ]
  },
  {
   "cell_type": "code",
   "execution_count": 2,
   "id": "5eca6169",
   "metadata": {},
   "outputs": [
    {
     "name": "stdout",
     "output_type": "stream",
     "text": [
      "{'mean': 2.6967741935483875, 'median': 2.7, 'std': 2.2953647360696494}\n"
     ]
    },
    {
     "data": {
      "text/html": [
       "<div>\n",
       "<style scoped>\n",
       "    .dataframe tbody tr th:only-of-type {\n",
       "        vertical-align: middle;\n",
       "    }\n",
       "\n",
       "    .dataframe tbody tr th {\n",
       "        vertical-align: top;\n",
       "    }\n",
       "\n",
       "    .dataframe thead th {\n",
       "        text-align: right;\n",
       "    }\n",
       "</style>\n",
       "<table border=\"1\" class=\"dataframe\">\n",
       "  <thead>\n",
       "    <tr style=\"text-align: right;\">\n",
       "      <th></th>\n",
       "      <th>year_month</th>\n",
       "      <th>mean</th>\n",
       "      <th>median</th>\n",
       "      <th>std</th>\n",
       "    </tr>\n",
       "  </thead>\n",
       "  <tbody>\n",
       "    <tr>\n",
       "      <th>0</th>\n",
       "      <td>2000-01</td>\n",
       "      <td>4.210484</td>\n",
       "      <td>3.8250</td>\n",
       "      <td>1.404602</td>\n",
       "    </tr>\n",
       "    <tr>\n",
       "      <th>1</th>\n",
       "      <td>2000-02</td>\n",
       "      <td>4.473276</td>\n",
       "      <td>4.3500</td>\n",
       "      <td>1.378857</td>\n",
       "    </tr>\n",
       "    <tr>\n",
       "      <th>2</th>\n",
       "      <td>2000-03</td>\n",
       "      <td>4.380645</td>\n",
       "      <td>3.8750</td>\n",
       "      <td>1.605131</td>\n",
       "    </tr>\n",
       "    <tr>\n",
       "      <th>3</th>\n",
       "      <td>2000-04</td>\n",
       "      <td>5.159167</td>\n",
       "      <td>4.9375</td>\n",
       "      <td>1.689961</td>\n",
       "    </tr>\n",
       "    <tr>\n",
       "      <th>4</th>\n",
       "      <td>2000-05</td>\n",
       "      <td>5.586290</td>\n",
       "      <td>5.5250</td>\n",
       "      <td>1.646965</td>\n",
       "    </tr>\n",
       "  </tbody>\n",
       "</table>\n",
       "</div>"
      ],
      "text/plain": [
       "  year_month      mean  median       std\n",
       "0    2000-01  4.210484  3.8250  1.404602\n",
       "1    2000-02  4.473276  4.3500  1.378857\n",
       "2    2000-03  4.380645  3.8750  1.605131\n",
       "3    2000-04  5.159167  4.9375  1.689961\n",
       "4    2000-05  5.586290  5.5250  1.646965"
      ]
     },
     "execution_count": 2,
     "metadata": {},
     "output_type": "execute_result"
    }
   ],
   "source": [
    "# Regn ut statistikk for én måned i Oslo\n",
    "result = ms.compute_single_month(\n",
    "    \"2024-03\", \"mean(air_temperature P1D)\", \"oslo\"\n",
    ")\n",
    "print(result)\n",
    "\n",
    "# Hent alle måneder for Tromsø\n",
    "df = ms.compute_all_months(\n",
    "    \"range(air_temperature P1D)\", \"tromso\"\n",
    ")\n",
    "df.head()"
   ]
  },
  {
   "cell_type": "markdown",
   "id": "257ad52b",
   "metadata": {},
   "source": [
    "### Finner antall ekstremverdier"
   ]
  },
  {
   "cell_type": "code",
   "execution_count": 3,
   "id": "7e0121f9",
   "metadata": {},
   "outputs": [
    {
     "data": {
      "text/html": [
       "<div>\n",
       "<style scoped>\n",
       "    .dataframe tbody tr th:only-of-type {\n",
       "        vertical-align: middle;\n",
       "    }\n",
       "\n",
       "    .dataframe tbody tr th {\n",
       "        vertical-align: top;\n",
       "    }\n",
       "\n",
       "    .dataframe thead th {\n",
       "        text-align: right;\n",
       "    }\n",
       "</style>\n",
       "<table border=\"1\" class=\"dataframe\">\n",
       "  <thead>\n",
       "    <tr style=\"text-align: right;\">\n",
       "      <th></th>\n",
       "      <th>year_month</th>\n",
       "      <th>outliers_removed</th>\n",
       "      <th>total_count</th>\n",
       "      <th>outlier_percentage</th>\n",
       "    </tr>\n",
       "  </thead>\n",
       "  <tbody>\n",
       "    <tr>\n",
       "      <th>0</th>\n",
       "      <td>2000-01</td>\n",
       "      <td>4</td>\n",
       "      <td>31</td>\n",
       "      <td>12.9</td>\n",
       "    </tr>\n",
       "    <tr>\n",
       "      <th>1</th>\n",
       "      <td>2000-02</td>\n",
       "      <td>3</td>\n",
       "      <td>29</td>\n",
       "      <td>10.3</td>\n",
       "    </tr>\n",
       "    <tr>\n",
       "      <th>2</th>\n",
       "      <td>2000-03</td>\n",
       "      <td>3</td>\n",
       "      <td>31</td>\n",
       "      <td>9.7</td>\n",
       "    </tr>\n",
       "    <tr>\n",
       "      <th>3</th>\n",
       "      <td>2000-04</td>\n",
       "      <td>1</td>\n",
       "      <td>30</td>\n",
       "      <td>3.3</td>\n",
       "    </tr>\n",
       "    <tr>\n",
       "      <th>4</th>\n",
       "      <td>2000-05</td>\n",
       "      <td>0</td>\n",
       "      <td>31</td>\n",
       "      <td>0.0</td>\n",
       "    </tr>\n",
       "  </tbody>\n",
       "</table>\n",
       "</div>"
      ],
      "text/plain": [
       "  year_month  outliers_removed  total_count  outlier_percentage\n",
       "0    2000-01                 4           31                12.9\n",
       "1    2000-02                 3           29                10.3\n",
       "2    2000-03                 3           31                 9.7\n",
       "3    2000-04                 1           30                 3.3\n",
       "4    2000-05                 0           31                 0.0"
      ]
     },
     "execution_count": 3,
     "metadata": {},
     "output_type": "execute_result"
    }
   ],
   "source": [
    "df_outliers = oa.find_outliers_per_month(\n",
    "    city=\"oslo\",\n",
    "    element_id=\"sum(precipitation_amount P1D)\",\n",
    "    include_empty_months=True\n",
    ")\n",
    "df_outliers.head()"
   ]
  },
  {
   "cell_type": "markdown",
   "id": "ce23eab8",
   "metadata": {},
   "source": [
    "### Finner statistiske verdier med og uten ekstremverdier"
   ]
  },
  {
   "cell_type": "code",
   "execution_count": 4,
   "id": "60403141",
   "metadata": {},
   "outputs": [
    {
     "data": {
      "text/html": [
       "<div>\n",
       "<style scoped>\n",
       "    .dataframe tbody tr th:only-of-type {\n",
       "        vertical-align: middle;\n",
       "    }\n",
       "\n",
       "    .dataframe tbody tr th {\n",
       "        vertical-align: top;\n",
       "    }\n",
       "\n",
       "    .dataframe thead th {\n",
       "        text-align: right;\n",
       "    }\n",
       "</style>\n",
       "<table border=\"1\" class=\"dataframe\">\n",
       "  <thead>\n",
       "    <tr style=\"text-align: right;\">\n",
       "      <th></th>\n",
       "      <th>year_month</th>\n",
       "      <th>mean_with_outliers</th>\n",
       "      <th>mean_without_outliers</th>\n",
       "      <th>outliers_removed</th>\n",
       "      <th>element_id</th>\n",
       "    </tr>\n",
       "  </thead>\n",
       "  <tbody>\n",
       "    <tr>\n",
       "      <th>0</th>\n",
       "      <td>2000-01</td>\n",
       "      <td>-2.400</td>\n",
       "      <td>-2.400</td>\n",
       "      <td>0</td>\n",
       "      <td>mean(air_temperature P1D)</td>\n",
       "    </tr>\n",
       "    <tr>\n",
       "      <th>1</th>\n",
       "      <td>2000-02</td>\n",
       "      <td>-3.297</td>\n",
       "      <td>-3.297</td>\n",
       "      <td>0</td>\n",
       "      <td>mean(air_temperature P1D)</td>\n",
       "    </tr>\n",
       "    <tr>\n",
       "      <th>2</th>\n",
       "      <td>2000-03</td>\n",
       "      <td>-3.113</td>\n",
       "      <td>-3.113</td>\n",
       "      <td>0</td>\n",
       "      <td>mean(air_temperature P1D)</td>\n",
       "    </tr>\n",
       "    <tr>\n",
       "      <th>3</th>\n",
       "      <td>2000-04</td>\n",
       "      <td>-0.810</td>\n",
       "      <td>-0.810</td>\n",
       "      <td>0</td>\n",
       "      <td>mean(air_temperature P1D)</td>\n",
       "    </tr>\n",
       "    <tr>\n",
       "      <th>4</th>\n",
       "      <td>2000-05</td>\n",
       "      <td>4.965</td>\n",
       "      <td>4.965</td>\n",
       "      <td>0</td>\n",
       "      <td>mean(air_temperature P1D)</td>\n",
       "    </tr>\n",
       "  </tbody>\n",
       "</table>\n",
       "</div>"
      ],
      "text/plain": [
       "  year_month  mean_with_outliers  mean_without_outliers  outliers_removed  \\\n",
       "0    2000-01              -2.400                 -2.400                 0   \n",
       "1    2000-02              -3.297                 -3.297                 0   \n",
       "2    2000-03              -3.113                 -3.113                 0   \n",
       "3    2000-04              -0.810                 -0.810                 0   \n",
       "4    2000-05               4.965                  4.965                 0   \n",
       "\n",
       "                  element_id  \n",
       "0  mean(air_temperature P1D)  \n",
       "1  mean(air_temperature P1D)  \n",
       "2  mean(air_temperature P1D)  \n",
       "3  mean(air_temperature P1D)  \n",
       "4  mean(air_temperature P1D)  "
      ]
     },
     "execution_count": 4,
     "metadata": {},
     "output_type": "execute_result"
    }
   ],
   "source": [
    "df_stats = oa.stats_with_without_outliers(\n",
    "    city=\"tromso\",\n",
    "    element_id=\"mean(air_temperature P1D)\",\n",
    "    statistic=\"mean\"\n",
    ")\n",
    "df_stats.head()"
   ]
  },
  {
   "cell_type": "markdown",
   "id": "90bbf1e8",
   "metadata": {},
   "source": [
    "### Henter og viser manglende verdier i en DataFrame"
   ]
  },
  {
   "cell_type": "code",
   "execution_count": 5,
   "id": "fdefd2b1",
   "metadata": {},
   "outputs": [
    {
     "data": {
      "text/html": [
       "<div>\n",
       "<style scoped>\n",
       "    .dataframe tbody tr th:only-of-type {\n",
       "        vertical-align: middle;\n",
       "    }\n",
       "\n",
       "    .dataframe tbody tr th {\n",
       "        vertical-align: top;\n",
       "    }\n",
       "\n",
       "    .dataframe thead th {\n",
       "        text-align: right;\n",
       "    }\n",
       "</style>\n",
       "<table border=\"1\" class=\"dataframe\">\n",
       "  <thead>\n",
       "    <tr style=\"text-align: right;\">\n",
       "      <th></th>\n",
       "      <th>date</th>\n",
       "      <th>timeOffset</th>\n",
       "      <th>elementId</th>\n",
       "      <th>missing</th>\n",
       "    </tr>\n",
       "  </thead>\n",
       "  <tbody>\n",
       "    <tr>\n",
       "      <th>0</th>\n",
       "      <td>2003-06-01</td>\n",
       "      <td>PT0H</td>\n",
       "      <td>max(air_temperature P1D)</td>\n",
       "      <td>Oslo</td>\n",
       "    </tr>\n",
       "    <tr>\n",
       "      <th>1</th>\n",
       "      <td>2003-06-01</td>\n",
       "      <td>PT0H</td>\n",
       "      <td>min(air_temperature P1D)</td>\n",
       "      <td>Oslo</td>\n",
       "    </tr>\n",
       "    <tr>\n",
       "      <th>2</th>\n",
       "      <td>2003-06-01</td>\n",
       "      <td>PT0H</td>\n",
       "      <td>range(air_temperature P1D)</td>\n",
       "      <td>Oslo</td>\n",
       "    </tr>\n",
       "    <tr>\n",
       "      <th>3</th>\n",
       "      <td>2003-06-02</td>\n",
       "      <td>PT0H</td>\n",
       "      <td>max(air_temperature P1D)</td>\n",
       "      <td>Oslo</td>\n",
       "    </tr>\n",
       "    <tr>\n",
       "      <th>4</th>\n",
       "      <td>2003-06-02</td>\n",
       "      <td>PT0H</td>\n",
       "      <td>min(air_temperature P1D)</td>\n",
       "      <td>Oslo</td>\n",
       "    </tr>\n",
       "  </tbody>\n",
       "</table>\n",
       "</div>"
      ],
      "text/plain": [
       "         date timeOffset                   elementId missing\n",
       "0  2003-06-01       PT0H    max(air_temperature P1D)    Oslo\n",
       "1  2003-06-01       PT0H    min(air_temperature P1D)    Oslo\n",
       "2  2003-06-01       PT0H  range(air_temperature P1D)    Oslo\n",
       "3  2003-06-02       PT0H    max(air_temperature P1D)    Oslo\n",
       "4  2003-06-02       PT0H    min(air_temperature P1D)    Oslo"
      ]
     },
     "execution_count": 5,
     "metadata": {},
     "output_type": "execute_result"
    }
   ],
   "source": [
    "df_missing = missing.read_missing_values(\"../../data/missing/missing_in_both.csv\")\n",
    "df_missing.head()"
   ]
  },
  {
   "cell_type": "markdown",
   "id": "3cae411e",
   "metadata": {},
   "source": [
    "### Viser prosentvis endring fra en periode til neste"
   ]
  },
  {
   "cell_type": "code",
   "execution_count": 6,
   "id": "ad3a3e2f",
   "metadata": {},
   "outputs": [
    {
     "data": {
      "text/html": [
       "<div>\n",
       "<style scoped>\n",
       "    .dataframe tbody tr th:only-of-type {\n",
       "        vertical-align: middle;\n",
       "    }\n",
       "\n",
       "    .dataframe tbody tr th {\n",
       "        vertical-align: top;\n",
       "    }\n",
       "\n",
       "    .dataframe thead th {\n",
       "        text-align: right;\n",
       "    }\n",
       "</style>\n",
       "<table border=\"1\" class=\"dataframe\">\n",
       "  <thead>\n",
       "    <tr style=\"text-align: right;\">\n",
       "      <th></th>\n",
       "      <th>period</th>\n",
       "      <th>value</th>\n",
       "      <th>percent_change</th>\n",
       "    </tr>\n",
       "  </thead>\n",
       "  <tbody>\n",
       "    <tr>\n",
       "      <th>0</th>\n",
       "      <td>2021-12-31 00:00:00+00:00</td>\n",
       "      <td>1.908219</td>\n",
       "      <td>-35.302620</td>\n",
       "    </tr>\n",
       "    <tr>\n",
       "      <th>1</th>\n",
       "      <td>2022-12-31 00:00:00+00:00</td>\n",
       "      <td>1.922466</td>\n",
       "      <td>0.746590</td>\n",
       "    </tr>\n",
       "    <tr>\n",
       "      <th>2</th>\n",
       "      <td>2023-12-31 00:00:00+00:00</td>\n",
       "      <td>2.802740</td>\n",
       "      <td>45.788799</td>\n",
       "    </tr>\n",
       "  </tbody>\n",
       "</table>\n",
       "</div>"
      ],
      "text/plain": [
       "                     period     value  percent_change\n",
       "0 2021-12-31 00:00:00+00:00  1.908219      -35.302620\n",
       "1 2022-12-31 00:00:00+00:00  1.922466        0.746590\n",
       "2 2023-12-31 00:00:00+00:00  2.802740       45.788799"
      ]
     },
     "execution_count": 6,
     "metadata": {},
     "output_type": "execute_result"
    }
   ],
   "source": [
    "df_change = ys.percent_change(\n",
    "    city=\"oslo\",\n",
    "    element_id=\"sum(precipitation_amount P1D)\",\n",
    "    time_offset=\"PT18H\",\n",
    "    statistic=\"mean\",\n",
    "    frequency=\"YE\",  # \"D\" for dag, \"ME\" for måned, \"YE\" for år\n",
    "    start=\"2020-01\",\n",
    "    end=\"2024-01\"\n",
    ")\n",
    "df_change.head()\n"
   ]
  }
 ],
 "metadata": {
  "kernelspec": {
   "display_name": ".venv",
   "language": "python",
   "name": "python3"
  },
  "language_info": {
   "codemirror_mode": {
    "name": "ipython",
    "version": 3
   },
   "file_extension": ".py",
   "mimetype": "text/x-python",
   "name": "python",
   "nbconvert_exporter": "python",
   "pygments_lexer": "ipython3",
   "version": "3.11.9"
  }
 },
 "nbformat": 4,
 "nbformat_minor": 5
}
