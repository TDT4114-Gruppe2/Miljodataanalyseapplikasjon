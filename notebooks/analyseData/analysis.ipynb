{
 "cells": [
  {
   "cell_type": "markdown",
   "id": "40182a63",
   "metadata": {},
   "source": [
    "# Analyse av datasett\n",
    "Notebooken bruker funksjoner fra klassene i analysis mappen og viser eksempler\n",
    "på bruksområdet av de forskjellige funksjonene"
   ]
  },
  {
   "cell_type": "markdown",
   "id": "98349de7",
   "metadata": {},
   "source": [
    "## Felles import for alle kodeblokker"
   ]
  },
  {
   "cell_type": "code",
   "execution_count": 1,
   "id": "0f850fc7",
   "metadata": {},
   "outputs": [
    {
     "ename": "ModuleNotFoundError",
     "evalue": "No module named 'yearlystats'",
     "output_type": "error",
     "traceback": [
      "\u001b[31m---------------------------------------------------------------------------\u001b[39m",
      "\u001b[31mModuleNotFoundError\u001b[39m                       Traceback (most recent call last)",
      "\u001b[36mCell\u001b[39m\u001b[36m \u001b[39m\u001b[32mIn[1]\u001b[39m\u001b[32m, line 7\u001b[39m\n\u001b[32m      3\u001b[39m \u001b[38;5;66;03m# Sørger for at vi alltid importerer fra ../analysis,\u001b[39;00m\n\u001b[32m      4\u001b[39m \u001b[38;5;66;03m# i tilfelle denne cellen kjøres flere ganger ettersom\u001b[39;00m\n\u001b[32m      5\u001b[39m \u001b[38;5;66;03m# at arbeidsmappen er endret til ../missingData senere.\u001b[39;00m\n\u001b[32m      6\u001b[39m sys.path.append(\u001b[33m\"\u001b[39m\u001b[33m../../analysis\u001b[39m\u001b[33m\"\u001b[39m)\n\u001b[32m----> \u001b[39m\u001b[32m7\u001b[39m \u001b[38;5;28;01mfrom\u001b[39;00m\u001b[38;5;250m \u001b[39m\u001b[34;01myearlystats\u001b[39;00m\u001b[38;5;250m \u001b[39m\u001b[38;5;28;01mimport\u001b[39;00m YearlyStats\n\u001b[32m      8\u001b[39m \u001b[38;5;28;01mfrom\u001b[39;00m\u001b[38;5;250m \u001b[39m\u001b[34;01moutlieranalysis\u001b[39;00m\u001b[38;5;250m \u001b[39m\u001b[38;5;28;01mimport\u001b[39;00m OutlierAnalysis\n\u001b[32m      9\u001b[39m \u001b[38;5;28;01mfrom\u001b[39;00m\u001b[38;5;250m \u001b[39m\u001b[34;01mmonthlystats\u001b[39;00m\u001b[38;5;250m \u001b[39m\u001b[38;5;28;01mimport\u001b[39;00m MonthlyStats\n",
      "\u001b[31mModuleNotFoundError\u001b[39m: No module named 'yearlystats'"
     ]
    }
   ],
   "source": [
    "import sys\n",
    "\n",
    "# Sørger for at vi alltid importerer fra ../analysis,\n",
    "# i tilfelle denne cellen kjøres flere ganger ettersom\n",
    "# at arbeidsmappen er endret til ../missingData senere.\n",
    "sys.path.append(\"../../analysis\")\n",
    "from yearlystats import YearlyStats\n",
    "from outlieranalysis import OutlierAnalysis\n",
    "from monthlystats import MonthlyStats\n",
    "\n",
    "ms = MonthlyStats(\"../../data/processed\")\n",
    "ys = YearlyStats(\"../../data/processed\")\n",
    "oa = OutlierAnalysis(\"../../data/processed\")\n",
    "\n",
    "# Import er delt i to da de henter fra forskjellige mapper\n",
    "sys.path.append(\"../missingData\")\n",
    "from missingdatafinder import MissingDataConverter\n",
    "missing = MissingDataConverter()"
   ]
  },
  {
   "cell_type": "markdown",
   "id": "7cd8ba78",
   "metadata": {},
   "source": [
    "## Eksempel koder på bruk av analyse funksjonene"
   ]
  },
  {
   "cell_type": "markdown",
   "id": "d82a611f",
   "metadata": {},
   "source": [
    "### Viser statistikk ved en eller alle måneder"
   ]
  },
  {
   "cell_type": "code",
   "execution_count": null,
   "id": "5eca6169",
   "metadata": {},
   "outputs": [
    {
     "name": "stdout",
     "output_type": "stream",
     "text": [
      "{'mean': 2.6967741935483875, 'median': 2.7, 'std': 2.2953647360696494}\n"
     ]
    },
    {
     "data": {
      "text/html": [
       "<div>\n",
       "<style scoped>\n",
       "    .dataframe tbody tr th:only-of-type {\n",
       "        vertical-align: middle;\n",
       "    }\n",
       "\n",
       "    .dataframe tbody tr th {\n",
       "        vertical-align: top;\n",
       "    }\n",
       "\n",
       "    .dataframe thead th {\n",
       "        text-align: right;\n",
       "    }\n",
       "</style>\n",
       "<table border=\"1\" class=\"dataframe\">\n",
       "  <thead>\n",
       "    <tr style=\"text-align: right;\">\n",
       "      <th></th>\n",
       "      <th>year_month</th>\n",
       "      <th>mean</th>\n",
       "      <th>median</th>\n",
       "      <th>std</th>\n",
       "    </tr>\n",
       "  </thead>\n",
       "  <tbody>\n",
       "    <tr>\n",
       "      <th>0</th>\n",
       "      <td>2003-06</td>\n",
       "      <td>6.543333</td>\n",
       "      <td>6.70</td>\n",
       "      <td>3.153289</td>\n",
       "    </tr>\n",
       "    <tr>\n",
       "      <th>1</th>\n",
       "      <td>2005-01</td>\n",
       "      <td>4.141935</td>\n",
       "      <td>4.10</td>\n",
       "      <td>1.331859</td>\n",
       "    </tr>\n",
       "    <tr>\n",
       "      <th>2</th>\n",
       "      <td>2005-02</td>\n",
       "      <td>4.207143</td>\n",
       "      <td>3.95</td>\n",
       "      <td>1.732463</td>\n",
       "    </tr>\n",
       "    <tr>\n",
       "      <th>3</th>\n",
       "      <td>2005-03</td>\n",
       "      <td>4.658065</td>\n",
       "      <td>4.50</td>\n",
       "      <td>1.867221</td>\n",
       "    </tr>\n",
       "    <tr>\n",
       "      <th>4</th>\n",
       "      <td>2005-04</td>\n",
       "      <td>5.056667</td>\n",
       "      <td>5.40</td>\n",
       "      <td>1.823351</td>\n",
       "    </tr>\n",
       "  </tbody>\n",
       "</table>\n",
       "</div>"
      ],
      "text/plain": [
       "  year_month      mean  median       std\n",
       "0    2003-06  6.543333    6.70  3.153289\n",
       "1    2005-01  4.141935    4.10  1.331859\n",
       "2    2005-02  4.207143    3.95  1.732463\n",
       "3    2005-03  4.658065    4.50  1.867221\n",
       "4    2005-04  5.056667    5.40  1.823351"
      ]
     },
     "execution_count": 2,
     "metadata": {},
     "output_type": "execute_result"
    }
   ],
   "source": [
    "# Regn ut statistikk for én måned i Oslo\n",
    "result = ms.compute_single_month(\n",
    "    \"2024-03\", \"mean(air_temperature P1D)\", \"oslo\"\n",
    ")\n",
    "print(result)\n",
    "\n",
    "# Hent alle måneder for Tromsø\n",
    "df = ms.compute_all_months(\n",
    "    \"range(air_temperature P1D)\", \"tromso\"\n",
    ")\n",
    "df.head()"
   ]
  },
  {
   "cell_type": "markdown",
   "id": "257ad52b",
   "metadata": {},
   "source": [
    "### Finner antall ekstremverdier"
   ]
  },
  {
   "cell_type": "code",
   "execution_count": null,
   "id": "7e0121f9",
   "metadata": {},
   "outputs": [
    {
     "data": {
      "text/html": [
       "<div>\n",
       "<style scoped>\n",
       "    .dataframe tbody tr th:only-of-type {\n",
       "        vertical-align: middle;\n",
       "    }\n",
       "\n",
       "    .dataframe tbody tr th {\n",
       "        vertical-align: top;\n",
       "    }\n",
       "\n",
       "    .dataframe thead th {\n",
       "        text-align: right;\n",
       "    }\n",
       "</style>\n",
       "<table border=\"1\" class=\"dataframe\">\n",
       "  <thead>\n",
       "    <tr style=\"text-align: right;\">\n",
       "      <th></th>\n",
       "      <th>year_month</th>\n",
       "      <th>outliers_removed</th>\n",
       "      <th>total_count</th>\n",
       "      <th>outlier_percentage</th>\n",
       "    </tr>\n",
       "  </thead>\n",
       "  <tbody>\n",
       "    <tr>\n",
       "      <th>0</th>\n",
       "      <td>2000-01</td>\n",
       "      <td>3</td>\n",
       "      <td>31</td>\n",
       "      <td>9.7</td>\n",
       "    </tr>\n",
       "    <tr>\n",
       "      <th>1</th>\n",
       "      <td>2000-02</td>\n",
       "      <td>5</td>\n",
       "      <td>29</td>\n",
       "      <td>17.2</td>\n",
       "    </tr>\n",
       "    <tr>\n",
       "      <th>2</th>\n",
       "      <td>2000-03</td>\n",
       "      <td>6</td>\n",
       "      <td>31</td>\n",
       "      <td>19.4</td>\n",
       "    </tr>\n",
       "    <tr>\n",
       "      <th>3</th>\n",
       "      <td>2000-04</td>\n",
       "      <td>1</td>\n",
       "      <td>30</td>\n",
       "      <td>3.3</td>\n",
       "    </tr>\n",
       "    <tr>\n",
       "      <th>4</th>\n",
       "      <td>2000-05</td>\n",
       "      <td>0</td>\n",
       "      <td>31</td>\n",
       "      <td>0.0</td>\n",
       "    </tr>\n",
       "  </tbody>\n",
       "</table>\n",
       "</div>"
      ],
      "text/plain": [
       "  year_month  outliers_removed  total_count  outlier_percentage\n",
       "0    2000-01                 3           31                 9.7\n",
       "1    2000-02                 5           29                17.2\n",
       "2    2000-03                 6           31                19.4\n",
       "3    2000-04                 1           30                 3.3\n",
       "4    2000-05                 0           31                 0.0"
      ]
     },
     "execution_count": 3,
     "metadata": {},
     "output_type": "execute_result"
    }
   ],
   "source": [
    "df_outliers = oa.find_outliers_per_month(\n",
    "    city=\"oslo\",\n",
    "    element_id=\"sum(precipitation_amount P1D)\",\n",
    "    include_empty_months=True\n",
    ")\n",
    "df_outliers.head()"
   ]
  },
  {
   "cell_type": "markdown",
   "id": "ce23eab8",
   "metadata": {},
   "source": [
    "### Finner statistiske verdier med og uten ekstremverdier"
   ]
  },
  {
   "cell_type": "code",
   "execution_count": null,
   "id": "60403141",
   "metadata": {},
   "outputs": [
    {
     "data": {
      "text/html": [
       "<div>\n",
       "<style scoped>\n",
       "    .dataframe tbody tr th:only-of-type {\n",
       "        vertical-align: middle;\n",
       "    }\n",
       "\n",
       "    .dataframe tbody tr th {\n",
       "        vertical-align: top;\n",
       "    }\n",
       "\n",
       "    .dataframe thead th {\n",
       "        text-align: right;\n",
       "    }\n",
       "</style>\n",
       "<table border=\"1\" class=\"dataframe\">\n",
       "  <thead>\n",
       "    <tr style=\"text-align: right;\">\n",
       "      <th></th>\n",
       "      <th>year_month</th>\n",
       "      <th>mean_with_outliers</th>\n",
       "      <th>mean_without_outliers</th>\n",
       "      <th>outliers_removed</th>\n",
       "      <th>element_id</th>\n",
       "    </tr>\n",
       "  </thead>\n",
       "  <tbody>\n",
       "    <tr>\n",
       "      <th>0</th>\n",
       "      <td>2000-01</td>\n",
       "      <td>-2.400</td>\n",
       "      <td>-2.400</td>\n",
       "      <td>0</td>\n",
       "      <td>mean(air_temperature P1D)</td>\n",
       "    </tr>\n",
       "    <tr>\n",
       "      <th>1</th>\n",
       "      <td>2000-02</td>\n",
       "      <td>-3.297</td>\n",
       "      <td>-3.297</td>\n",
       "      <td>0</td>\n",
       "      <td>mean(air_temperature P1D)</td>\n",
       "    </tr>\n",
       "    <tr>\n",
       "      <th>2</th>\n",
       "      <td>2000-03</td>\n",
       "      <td>-3.113</td>\n",
       "      <td>-3.113</td>\n",
       "      <td>0</td>\n",
       "      <td>mean(air_temperature P1D)</td>\n",
       "    </tr>\n",
       "    <tr>\n",
       "      <th>3</th>\n",
       "      <td>2000-04</td>\n",
       "      <td>-0.810</td>\n",
       "      <td>-0.810</td>\n",
       "      <td>0</td>\n",
       "      <td>mean(air_temperature P1D)</td>\n",
       "    </tr>\n",
       "    <tr>\n",
       "      <th>4</th>\n",
       "      <td>2000-05</td>\n",
       "      <td>4.965</td>\n",
       "      <td>4.965</td>\n",
       "      <td>0</td>\n",
       "      <td>mean(air_temperature P1D)</td>\n",
       "    </tr>\n",
       "  </tbody>\n",
       "</table>\n",
       "</div>"
      ],
      "text/plain": [
       "  year_month  mean_with_outliers  mean_without_outliers  outliers_removed  \\\n",
       "0    2000-01              -2.400                 -2.400                 0   \n",
       "1    2000-02              -3.297                 -3.297                 0   \n",
       "2    2000-03              -3.113                 -3.113                 0   \n",
       "3    2000-04              -0.810                 -0.810                 0   \n",
       "4    2000-05               4.965                  4.965                 0   \n",
       "\n",
       "                  element_id  \n",
       "0  mean(air_temperature P1D)  \n",
       "1  mean(air_temperature P1D)  \n",
       "2  mean(air_temperature P1D)  \n",
       "3  mean(air_temperature P1D)  \n",
       "4  mean(air_temperature P1D)  "
      ]
     },
     "execution_count": 4,
     "metadata": {},
     "output_type": "execute_result"
    }
   ],
   "source": [
    "df_stats = oa.stats_with_without_outliers(\n",
    "    city=\"tromso\",\n",
    "    element_id=\"mean(air_temperature P1D)\",\n",
    "    statistic=\"mean\"\n",
    ")\n",
    "df_stats.head()"
   ]
  },
  {
   "cell_type": "markdown",
   "id": "90bbf1e8",
   "metadata": {},
   "source": [
    "### Henter og viser manglende verdier i en DataFrame"
   ]
  },
  {
   "cell_type": "code",
   "execution_count": null,
   "id": "fdefd2b1",
   "metadata": {},
   "outputs": [
    {
     "data": {
      "text/html": [
       "<div>\n",
       "<style scoped>\n",
       "    .dataframe tbody tr th:only-of-type {\n",
       "        vertical-align: middle;\n",
       "    }\n",
       "\n",
       "    .dataframe tbody tr th {\n",
       "        vertical-align: top;\n",
       "    }\n",
       "\n",
       "    .dataframe thead th {\n",
       "        text-align: right;\n",
       "    }\n",
       "</style>\n",
       "<table border=\"1\" class=\"dataframe\">\n",
       "  <thead>\n",
       "    <tr style=\"text-align: right;\">\n",
       "      <th></th>\n",
       "      <th>date</th>\n",
       "      <th>timeOffset</th>\n",
       "      <th>elementId</th>\n",
       "      <th>missing</th>\n",
       "    </tr>\n",
       "  </thead>\n",
       "  <tbody>\n",
       "    <tr>\n",
       "      <th>0</th>\n",
       "      <td>2003-06-01</td>\n",
       "      <td>PT0H</td>\n",
       "      <td>max(air_temperature P1D)</td>\n",
       "      <td>Oslo</td>\n",
       "    </tr>\n",
       "    <tr>\n",
       "      <th>1</th>\n",
       "      <td>2003-06-01</td>\n",
       "      <td>PT0H</td>\n",
       "      <td>min(air_temperature P1D)</td>\n",
       "      <td>Oslo</td>\n",
       "    </tr>\n",
       "    <tr>\n",
       "      <th>2</th>\n",
       "      <td>2003-06-01</td>\n",
       "      <td>PT0H</td>\n",
       "      <td>range(air_temperature P1D)</td>\n",
       "      <td>Oslo</td>\n",
       "    </tr>\n",
       "    <tr>\n",
       "      <th>3</th>\n",
       "      <td>2003-06-02</td>\n",
       "      <td>PT0H</td>\n",
       "      <td>max(air_temperature P1D)</td>\n",
       "      <td>Oslo</td>\n",
       "    </tr>\n",
       "    <tr>\n",
       "      <th>4</th>\n",
       "      <td>2003-06-02</td>\n",
       "      <td>PT0H</td>\n",
       "      <td>min(air_temperature P1D)</td>\n",
       "      <td>Oslo</td>\n",
       "    </tr>\n",
       "  </tbody>\n",
       "</table>\n",
       "</div>"
      ],
      "text/plain": [
       "         date timeOffset                   elementId missing\n",
       "0  2003-06-01       PT0H    max(air_temperature P1D)    Oslo\n",
       "1  2003-06-01       PT0H    min(air_temperature P1D)    Oslo\n",
       "2  2003-06-01       PT0H  range(air_temperature P1D)    Oslo\n",
       "3  2003-06-02       PT0H    max(air_temperature P1D)    Oslo\n",
       "4  2003-06-02       PT0H    min(air_temperature P1D)    Oslo"
      ]
     },
     "execution_count": 5,
     "metadata": {},
     "output_type": "execute_result"
    }
   ],
   "source": [
    "df_missing = missing.read_missing_values(\"../../data/missing/missing_in_both.csv\")\n",
    "df_missing.head()"
   ]
  },
  {
   "cell_type": "markdown",
   "id": "3cae411e",
   "metadata": {},
   "source": [
    "### Viser prosentvis endring fra en periode til neste"
   ]
  },
  {
   "cell_type": "code",
   "execution_count": null,
   "id": "ad3a3e2f",
   "metadata": {},
   "outputs": [
    {
     "data": {
      "text/html": [
       "<div>\n",
       "<style scoped>\n",
       "    .dataframe tbody tr th:only-of-type {\n",
       "        vertical-align: middle;\n",
       "    }\n",
       "\n",
       "    .dataframe tbody tr th {\n",
       "        vertical-align: top;\n",
       "    }\n",
       "\n",
       "    .dataframe thead th {\n",
       "        text-align: right;\n",
       "    }\n",
       "</style>\n",
       "<table border=\"1\" class=\"dataframe\">\n",
       "  <thead>\n",
       "    <tr style=\"text-align: right;\">\n",
       "      <th></th>\n",
       "      <th>period</th>\n",
       "      <th>value</th>\n",
       "      <th>percent_change</th>\n",
       "    </tr>\n",
       "  </thead>\n",
       "  <tbody>\n",
       "    <tr>\n",
       "      <th>0</th>\n",
       "      <td>2021-12-31 00:00:00+00:00</td>\n",
       "      <td>1.908219</td>\n",
       "      <td>-35.302620</td>\n",
       "    </tr>\n",
       "    <tr>\n",
       "      <th>1</th>\n",
       "      <td>2022-12-31 00:00:00+00:00</td>\n",
       "      <td>1.922466</td>\n",
       "      <td>0.746590</td>\n",
       "    </tr>\n",
       "    <tr>\n",
       "      <th>2</th>\n",
       "      <td>2023-12-31 00:00:00+00:00</td>\n",
       "      <td>2.802740</td>\n",
       "      <td>45.788799</td>\n",
       "    </tr>\n",
       "    <tr>\n",
       "      <th>3</th>\n",
       "      <td>2024-12-31 00:00:00+00:00</td>\n",
       "      <td>10.400000</td>\n",
       "      <td>271.065494</td>\n",
       "    </tr>\n",
       "  </tbody>\n",
       "</table>\n",
       "</div>"
      ],
      "text/plain": [
       "                     period      value  percent_change\n",
       "0 2021-12-31 00:00:00+00:00   1.908219      -35.302620\n",
       "1 2022-12-31 00:00:00+00:00   1.922466        0.746590\n",
       "2 2023-12-31 00:00:00+00:00   2.802740       45.788799\n",
       "3 2024-12-31 00:00:00+00:00  10.400000      271.065494"
      ]
     },
     "execution_count": 6,
     "metadata": {},
     "output_type": "execute_result"
    }
   ],
   "source": [
    "df_change = ys.percent_change(\n",
    "    city=\"oslo\",\n",
    "    element_id=\"sum(precipitation_amount P1D)\",\n",
    "    time_offset=\"PT18H\",\n",
    "    statistic=\"mean\",\n",
    "    frequency=\"YE\",  # \"D\" for dag, \"ME\" for måned, \"YE\" for år\n",
    "    start=\"2020-01\",\n",
    "    end=\"2024-01\"\n",
    ")\n",
    "df_change.head()\n"
   ]
  }
 ],
 "metadata": {
  "kernelspec": {
   "display_name": "venv",
   "language": "python",
   "name": "python3"
  },
  "language_info": {
   "codemirror_mode": {
    "name": "ipython",
    "version": 3
   },
   "file_extension": ".py",
   "mimetype": "text/x-python",
   "name": "python",
   "nbconvert_exporter": "python",
   "pygments_lexer": "ipython3",
   "version": "3.13.2"
  }
 },
 "nbformat": 4,
 "nbformat_minor": 5
}
