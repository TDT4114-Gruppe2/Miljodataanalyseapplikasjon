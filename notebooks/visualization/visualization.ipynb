{
 "cells": [
  {
   "cell_type": "markdown",
   "metadata": {},
   "source": [
    "# Visualisering og interaktiv utforskning\n",
    "\n",
    "Visualiseringene i prosjektet er utviklet med mål om å støtte utforskning og tolkning av klimadata på en interaktiv og brukervennlig måte. Vi har benyttet både Dash (for månedlig temperaturspenn over tid) og Jupyter Notebook-widgets (for værdata på spesifikke datoer) for å tilby fleksible innfallsvinkler til analysen.\n",
    "\n",
    "Hver løsning gir brukeren mulighet til å filtrere, sammenligne og undersøke spesifikke værfenomener visuelt – enten over tid eller på utvalgte dager. Dette gjør det enklere å avdekke mønstre, avvik og trender som kan være vanskelige å fange i rene tabeller eller summerte statistikker.\n",
    "\n",
    "Visualiseringene støtter analysen ved å:\n",
    "- Gjøre komplekse datasett lettere å tolke\n",
    "- Avdekke variasjoner mellom byer og måneder\n",
    "- Identifisere outliers og ekstreme verdier\n",
    "- Underbygge refleksjoner om klimaendringer og datakvalitet\n",
    "\n",
    "Nedenfor beskrives de to interaktive løsningene, hva de gjør og hvordan de styrker analysen.\n"
   ]
  },
  {
   "cell_type": "markdown",
   "metadata": {},
   "source": [
    "## Felles import for alle kodeblokker"
   ]
  },
  {
   "cell_type": "code",
   "execution_count": 1,
   "metadata": {},
   "outputs": [],
   "source": [
    "import calendar\n",
    "import ipywidgets as widgets\n",
    "import matplotlib.pyplot as plt\n",
    "import pandas as pd\n",
    "import plotly.express as px\n",
    "import plotly.graph_objects as go\n",
    "import sys\n",
    "\n",
    "from dash import Dash, html, dcc, Input, Output\n",
    "from IPython.display import display, clear_output\n",
    "\n",
    "sys.path.append(\"../../src/analyseData\")\n",
    "\n",
    "from basedata import DataLoader\n",
    "from monthlystats import MonthlyStats\n",
    "from outlierdetector import OutlierDetector\n",
    "\n",
    "# Initialisering av instanser\n",
    "loader = DataLoader(\"../../data/processed\")\n",
    "ms = MonthlyStats(\"../../data/processed\")\n",
    "od = OutlierDetector()"
   ]
  },
  {
   "cell_type": "markdown",
   "metadata": {},
   "source": [
    "## Tempraturforskjell by"
   ]
  },
  {
   "cell_type": "code",
   "execution_count": 2,
   "metadata": {},
   "outputs": [
    {
     "data": {
      "text/html": [
       "\n",
       "        <iframe\n",
       "            width=\"100%\"\n",
       "            height=\"650\"\n",
       "            src=\"http://127.0.0.1:8052/\"\n",
       "            frameborder=\"0\"\n",
       "            allowfullscreen\n",
       "            \n",
       "        ></iframe>\n",
       "        "
      ],
      "text/plain": [
       "<IPython.lib.display.IFrame at 0x1f25efa7010>"
      ]
     },
     "metadata": {},
     "output_type": "display_data"
    }
   ],
   "source": [
    "# Hent ferdigberegnet temperaturspenn (range) for begge byer\n",
    "df_oslo = ms.compute_all_months(\n",
    "    \"range(air_temperature P1D)\",\n",
    "    \"oslo\",\n",
    ")\n",
    "df_tromso = ms.compute_all_months(\n",
    "    \"range(air_temperature P1D)\",\n",
    "    \"tromso\",\n",
    ")\n",
    "\n",
    "# Legg til 'year', 'month' og 'temp_diff'\n",
    "for df in (df_oslo, df_tromso):\n",
    "    df[\"year_month\"] = pd.to_datetime(df[\"year_month\"])\n",
    "    df[\"year\"] = df[\"year_month\"].dt.year\n",
    "    df[\"month\"] = df[\"year_month\"].dt.month_name()\n",
    "    df[\"temp_diff\"] = df[\"mean\"]  # Gi nytt navn for bruk i figuren\n",
    "\n",
    "# Start Dash-app\n",
    "app = Dash(__name__)\n",
    "\n",
    "\n",
    "app.layout = html.Div(\n",
    "    [\n",
    "        html.H1(\"Temperature Range (Difference) per Month\"),\n",
    "        html.Label(\"City:\"),\n",
    "        dcc.Dropdown(\n",
    "            id=\"city-dropdown\",\n",
    "            options=[\n",
    "                {\"label\": \"Oslo\", \"value\": \"Oslo\"},\n",
    "                {\"label\": \"Tromsø\", \"value\": \"Tromsø\"},\n",
    "            ],\n",
    "            value=\"Oslo\",\n",
    "            clearable=False,\n",
    "        ),\n",
    "        html.Label(\"Month:\"),\n",
    "        dcc.Dropdown(\n",
    "            id=\"month-dropdown\",\n",
    "            options=[\n",
    "                {\"label\": m, \"value\": m}\n",
    "                for m in calendar.month_name[1:]\n",
    "            ],\n",
    "            value=\"January\",\n",
    "            clearable=False,\n",
    "        ),\n",
    "        html.Label(\"Start Year:\"),\n",
    "        dcc.Input(\n",
    "            id=\"start-year\",\n",
    "            type=\"number\",\n",
    "            value=2000,\n",
    "            min=2000,\n",
    "            max=2023,\n",
    "        ),\n",
    "        html.Label(\"End Year:\"),\n",
    "        dcc.Input(\n",
    "            id=\"end-year\",\n",
    "            type=\"number\",\n",
    "            value=2023,\n",
    "            min=2000,\n",
    "            max=2023,\n",
    "        ),\n",
    "        dcc.Graph(id=\"temperature-graph\"),\n",
    "    ],\n",
    ")\n",
    "\n",
    "\n",
    "@app.callback(\n",
    "    Output(\"temperature-graph\", \"figure\"),\n",
    "    Input(\"city-dropdown\", \"value\"),\n",
    "    Input(\"month-dropdown\", \"value\"),\n",
    "    Input(\"start-year\", \"value\"),\n",
    "    Input(\"end-year\", \"value\"),\n",
    ")\n",
    "def update_graph(\n",
    "    city: str,\n",
    "    month: str,\n",
    "    start_year: int,\n",
    "    end_year: int,\n",
    ") -> go.Figure:\n",
    "    \"\"\"Oppdater bar-chart basert på brukerens valg.\"\"\"\n",
    "    source_df = df_oslo if city == \"Oslo\" else df_tromso\n",
    "\n",
    "    df_filtered = source_df[\n",
    "        (source_df[\"year\"] >= start_year)\n",
    "        & (source_df[\"year\"] <= end_year)\n",
    "        & (source_df[\"month\"] == month)\n",
    "    ]\n",
    "\n",
    "    fig = px.bar(\n",
    "        df_filtered,\n",
    "        x=\"year\",\n",
    "        y=\"temp_diff\",\n",
    "        color=\"temp_diff\",\n",
    "        color_continuous_scale=\"YlOrRd\",\n",
    "        title=(\n",
    "            f\"Average Temperature Range for {month} – \"\n",
    "            f\"{city} ({start_year} to {end_year})\"\n",
    "        ),\n",
    "        labels={\"temp_diff\": \"Temp. Range (°C)\", \"year\": \"Year\"},\n",
    "    )\n",
    "    return fig\n",
    "\n",
    "\n",
    "if __name__ == \"__main__\":\n",
    "    app.run(debug=True, port=8052)"
   ]
  },
  {
   "cell_type": "markdown",
   "metadata": {},
   "source": [
    "Temperaturspennet beregnes med `range(air_temperature P1D)` og gir innsikt i hvor stabile eller ekstreme døgnene er. Høyt spenn kan indikere store forskjeller, noe som har betydning for energibehov, biologisk stress og som indikator på klimaendringer.\n"
   ]
  },
  {
   "cell_type": "markdown",
   "metadata": {},
   "source": [
    "## Sjekke data for bestemt dag basert på historikk"
   ]
  },
  {
   "cell_type": "code",
   "execution_count": 3,
   "metadata": {},
   "outputs": [
    {
     "data": {
      "application/vnd.jupyter.widget-view+json": {
       "model_id": "806d2670ebe2436dbf6e567397e2c035",
       "version_major": 2,
       "version_minor": 0
      },
      "text/plain": [
       "IntSlider(value=5, description='Måned:', max=12, min=1)"
      ]
     },
     "metadata": {},
     "output_type": "display_data"
    },
    {
     "data": {
      "application/vnd.jupyter.widget-view+json": {
       "model_id": "5a03be2d47164d5aa6971df18866c156",
       "version_major": 2,
       "version_minor": 0
      },
      "text/plain": [
       "IntSlider(value=17, description='Dag:', max=31, min=1)"
      ]
     },
     "metadata": {},
     "output_type": "display_data"
    },
    {
     "data": {
      "application/vnd.jupyter.widget-view+json": {
       "model_id": "d6ec2b2273c8403db403aec7e346cf3c",
       "version_major": 2,
       "version_minor": 0
      },
      "text/plain": [
       "SelectMultiple(description='By(er):', index=(0,), options=('oslo', 'tromso'), value=('oslo',))"
      ]
     },
     "metadata": {},
     "output_type": "display_data"
    },
    {
     "data": {
      "application/vnd.jupyter.widget-view+json": {
       "model_id": "3c5cfe195fd1452384ddb02a517e8516",
       "version_major": 2,
       "version_minor": 0
      },
      "text/plain": [
       "Dropdown(description='Element:', options=('sum(precipitation_amount P1D)', 'max(air_temperature P1D)', 'mean(w…"
      ]
     },
     "metadata": {},
     "output_type": "display_data"
    },
    {
     "data": {
      "application/vnd.jupyter.widget-view+json": {
       "model_id": "d55fd4eb617d46aa81aa1b9fa62d7263",
       "version_major": 2,
       "version_minor": 0
      },
      "text/plain": [
       "Dropdown(description='Time Offset:', options=('PT0H', 'PT6H', 'PT12H', 'PT18H'), value='PT0H')"
      ]
     },
     "metadata": {},
     "output_type": "display_data"
    },
    {
     "data": {
      "application/vnd.jupyter.widget-view+json": {
       "model_id": "d3c091a1865c4088b5a2c20e74a7a01c",
       "version_major": 2,
       "version_minor": 0
      },
      "text/plain": [
       "Button(description='Vis statistikk', style=ButtonStyle())"
      ]
     },
     "metadata": {},
     "output_type": "display_data"
    },
    {
     "data": {
      "application/vnd.jupyter.widget-view+json": {
       "model_id": "0552cbc65d5e48ae9a9e1a74da2a42be",
       "version_major": 2,
       "version_minor": 0
      },
      "text/plain": [
       "Output()"
      ]
     },
     "metadata": {},
     "output_type": "display_data"
    }
   ],
   "source": [
    "# Slidere og dropdowns\n",
    "dag_slider = widgets.IntSlider(\n",
    "    value=17,\n",
    "    min=1,\n",
    "    max=31,\n",
    "    description=\"Dag:\",\n",
    ")\n",
    "maaned_slider = widgets.IntSlider(\n",
    "    value=5,\n",
    "    min=1,\n",
    "    max=12,\n",
    "    description=\"Måned:\",\n",
    ")\n",
    "by_dropdown = widgets.SelectMultiple(\n",
    "    options=[\"oslo\", \"tromso\"],\n",
    "    value=[\"oslo\"],\n",
    "    description=\"By(er):\",\n",
    ")\n",
    "element_dropdown = widgets.Dropdown(\n",
    "    options=[\n",
    "        \"sum(precipitation_amount P1D)\",\n",
    "        \"max(air_temperature P1D)\",\n",
    "        \"mean(wind_speed P1D)\",\n",
    "    ],\n",
    "    value=\"sum(precipitation_amount P1D)\",\n",
    "    description=\"Element:\",\n",
    ")\n",
    "time_offset_dropdown = widgets.Dropdown(\n",
    "    options=[\"PT0H\", \"PT6H\", \"PT12H\", \"PT18H\"],\n",
    "    value=\"PT0H\",\n",
    "    description=\"Time Offset:\",\n",
    ")\n",
    "knapp = widgets.Button(description=\"Vis statistikk\")\n",
    "output = widgets.Output()\n",
    "\n",
    "\n",
    "def vis_statistikk(b) -> None:\n",
    "    \"\"\"Vis gjennomsnitt og outlier-info for valgt dag, måned og by(er).\"\"\"\n",
    "    with output:\n",
    "        clear_output()\n",
    "        dag = dag_slider.value\n",
    "        maaned = maaned_slider.value\n",
    "        valgte_byer = by_dropdown.value\n",
    "        element_id = element_dropdown.value\n",
    "        time_offset = time_offset_dropdown.value\n",
    "        visningsnavn = {\"oslo\": \"Oslo\", \"tromso\": \"Tromsø\"}\n",
    "        stats_data: dict[str, float] = {}\n",
    "\n",
    "        # Hent gjennomsnitt per by\n",
    "        for by in valgte_byer:\n",
    "            try:\n",
    "                df = loader._load_city(by)\n",
    "                df_filtered = df[\n",
    "                    (df[\"elementId\"] == element_id)\n",
    "                    & (df[\"timeOffset\"] == time_offset)\n",
    "                ].copy()\n",
    "                df_filtered[\"referenceTime\"] = pd.to_datetime(\n",
    "                    df_filtered[\"referenceTime\"], utc=True\n",
    "                )\n",
    "                df_filtered = df_filtered[\n",
    "                    (df_filtered[\"referenceTime\"].dt.month == maaned)\n",
    "                    & (df_filtered[\"referenceTime\"].dt.day == dag)\n",
    "                ]\n",
    "                df_filtered[\"value\"] = pd.to_numeric(\n",
    "                    df_filtered[\"value\"], errors=\"coerce\"\n",
    "                )\n",
    "\n",
    "                if not df_filtered.empty:\n",
    "                    stats_data[visningsnavn[by]] = df_filtered[\"value\"].mean()\n",
    "            except Exception as e:\n",
    "                print(f\"Feil ved behandling av data for {by}: {e}\")\n",
    "\n",
    "        if not stats_data:\n",
    "            print(\"Ingen data tilgjengelig for valgt dag/by.\")\n",
    "            return\n",
    "\n",
    "        # Plott gjennomsnitt\n",
    "        plt.figure(figsize=(10, 5))\n",
    "        plt.bar(stats_data.keys(), stats_data.values(), edgecolor=\"black\")\n",
    "        plt.title(f\"Gjennomsnittlig {element_id} for {dag:02d}.{maaned:02d}\")\n",
    "        plt.ylabel(\"Verdi\")\n",
    "        plt.grid(axis=\"y\")\n",
    "        plt.tight_layout()\n",
    "        plt.show()\n",
    "\n",
    "        # Skriv ut gjennomsnittsverdier\n",
    "        print(\"\\nGjennomsnittsverdier:\")\n",
    "        for navn, verdi in stats_data.items():\n",
    "            print(f\"{navn}: {verdi:.2f}\")\n",
    "\n",
    "        # Outlier-informasjon\n",
    "        print(\"\\nOutlier-informasjon:\")\n",
    "        for by_kode in valgte_byer:\n",
    "            try:\n",
    "                df = loader._load_city(by_kode)\n",
    "                df_filtered = df[\n",
    "                    (df[\"elementId\"] == element_id)\n",
    "                    & (df[\"timeOffset\"] == time_offset)\n",
    "                ].copy()\n",
    "                df_filtered[\"value\"] = pd.to_numeric(\n",
    "                    df_filtered[\"value\"], errors=\"coerce\"\n",
    "                )\n",
    "                mask = od.detect_iqr(df_filtered[\"value\"])\n",
    "                count = int(mask.sum())\n",
    "\n",
    "                navn = visningsnavn[by_kode]\n",
    "                if count > 0:\n",
    "                    print(f\"{navn}: {count} outliers funnet\")\n",
    "                else:\n",
    "                    print(f\"{navn}: Ingen outliers funnet\")\n",
    "            except Exception as e:\n",
    "                print(f\"Kunne ikke analysere outliers for {navn}: {e}\")\n",
    "\n",
    "\n",
    "knapp.on_click(vis_statistikk)\n",
    "display(\n",
    "    maaned_slider,\n",
    "    dag_slider,\n",
    "    by_dropdown,\n",
    "    element_dropdown,\n",
    "    time_offset_dropdown,\n",
    "    knapp,\n",
    "    output,\n",
    ")"
   ]
  },
  {
   "cell_type": "markdown",
   "metadata": {},
   "source": [
    "Grafen viser gjennomsnittlig måling av valgt klimavariabel (for eksempel nedbør, temperatur eller vind) for en bestemt dag og måned, basert på historiske observasjoner i Oslo og Tromsø. I eksempelet her ser vi data for **17. mai**, som ofte diskuteres med tanke på \"typisk vær\" i Norge.\n",
    "\n",
    "Denne analysen sammenfaller med det Meteorologisk institutt beskriver i sin artikkel om nasjonaldagsvær:  \n",
    "🔗 [Hva er typisk 17. mai-vær? – met.no](https://www.met.no/nyhetsarkiv/hva-er-typisk-17.mai-vaer)\n",
    "\n",
    "*Obs:* Beregningene baserer seg på historiske målinger og forutsetter tilgang på gyldige data for valgt sted og tidspunkt. Deres data baserer seg fra 1991-2020, mens dette prosjektet bruker data fra 2000-2024. Det er derfor naturlig at de avviker noe.\n",
    "\n",
    "\n",
    "## Kilder\n",
    "Meteorologisk institutt (2021). *Hva er typisk 17. mai-vær?*. Met.no.\n",
    "https://www.met.no/nyhetsarkiv/hva-er-typisk-17.mai-vaer"
   ]
  }
 ],
 "metadata": {
  "kernelspec": {
   "display_name": ".venv",
   "language": "python",
   "name": "python3"
  },
  "language_info": {
   "codemirror_mode": {
    "name": "ipython",
    "version": 3
   },
   "file_extension": ".py",
   "mimetype": "text/x-python",
   "name": "python",
   "nbconvert_exporter": "python",
   "pygments_lexer": "ipython3",
   "version": "3.11.9"
  }
 },
 "nbformat": 4,
 "nbformat_minor": 2
}
