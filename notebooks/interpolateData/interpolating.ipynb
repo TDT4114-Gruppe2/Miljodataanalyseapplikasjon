{
 "cells": [
  {
   "cell_type": "markdown",
   "id": "a9ab379d",
   "metadata": {},
   "source": [
    "# Kjøring av interpolering og visualisering\n",
    "Denne notebooken benytter klasser fra missingData og interpolation for å løse\n",
    "manglende verdier ved å interpolere datasettet og skrive dem til en ny .csv-fil. \n",
    "Til slutt visualiseres et oppsummert datasett."
   ]
  },
  {
   "cell_type": "markdown",
   "id": "cf35084d",
   "metadata": {},
   "source": [
    "## Felles import for alle kodeblokker"
   ]
  },
  {
   "cell_type": "code",
   "execution_count": null,
   "id": "c3ffba46",
   "metadata": {},
   "outputs": [],
   "source": [
    "import sys\n",
    "\n",
    "import pandas as pd\n",
    "import matplotlib.pyplot as plt\n",
    "from interpolateData import WeatherDataPipeline\n",
    "\n",
    "sys.path.append(\"../missingData\")\n",
    "from missingdatafinder import MissingWeatherDataAnalyzer"
   ]
  },
  {
   "cell_type": "markdown",
   "id": "f2bdb7c4",
   "metadata": {},
   "source": [
    "## Kjøring av interpolering"
   ]
  },
  {
   "cell_type": "code",
   "execution_count": null,
   "id": "c1be3f00",
   "metadata": {},
   "outputs": [],
   "source": [
    "pipeline = WeatherDataPipeline(\n",
    "    small_gap_days=3,\n",
    "    seasonal_period=365,\n",
    "    model=\"additive\",\n",
    ")\n",
    "\n",
    "# Kjør interpolering for Oslo og Tromsø\n",
    "pipeline.process(\n",
    "    input_file=\"../../data/processed/vaerdata_oslo.csv\",\n",
    "    output_file=\"../../data/processed/vaerdata_oslo_imputert.csv\",\n",
    ")\n",
    "pipeline.process(\n",
    "    input_file=\"../../data/processed/vaerdata_tromso.csv\",\n",
    "    output_file=\"../../data/processed/vaerdata_tromso_imputert.csv\",\n",
    ")"
   ]
  },
  {
   "cell_type": "markdown",
   "id": "5695885a",
   "metadata": {},
   "source": [
    "## Sammenligning av data før og etter interpolering"
   ]
  },
  {
   "cell_type": "code",
   "execution_count": null,
   "id": "4e9e08f4",
   "metadata": {},
   "outputs": [],
   "source": [
    "# Filstier før og etter interpolering\n",
    "oslo_raw_file = \"../../data/processed/vaerdata_oslo.csv\"\n",
    "oslo_imputed_file = \"../../data/processed/vaerdata_oslo_imputert.csv\"\n",
    "tromso_raw_file = \"../../data/processed/vaerdata_tromso.csv\"\n",
    "tromso_imputed_file = \"../../data/processed/vaerdata_tromso_imputert.csv\"\n",
    "\n",
    "# Manglende rader før interpolering\n",
    "analyzer_raw = MissingWeatherDataAnalyzer(\n",
    "    oslo_path=oslo_raw_file,\n",
    "    tromso_path=tromso_raw_file,\n",
    "    output_dir=None,\n",
    ")\n",
    "analyzer_raw.load_data()\n",
    "analyzer_raw.identify_missing()\n",
    "missing_before = analyzer_raw.df_missing\n",
    "\n",
    "# --- Etter interpolering ---\n",
    "analyzer_imp = MissingWeatherDataAnalyzer(\n",
    "    oslo_path=oslo_imputed_file,\n",
    "    tromso_path=tromso_imputed_file,\n",
    "    output_dir=None,\n",
    ")\n",
    "analyzer_imp.load_data()\n",
    "analyzer_imp.identify_missing()\n",
    "missing_after = analyzer_imp.df_missing\n",
    "\n",
    "# Raskt overblikk i DataFrame-form\n",
    "summary_df = pd.DataFrame(\n",
    "    {\n",
    "        \"Før (antall manglende)\": missing_before.groupby(\"city\").size(),\n",
    "        \"Etter (antall manglende)\": missing_after.groupby(\"city\").size(),\n",
    "    }\n",
    ").fillna(0).astype(int)\n",
    "display(summary_df)\n",
    "\n",
    "# Enkel visualisering\n",
    "summary_df.plot(kind=\"bar\")\n",
    "plt.title(\"Manglende datapunkter før vs. etter interpolering\")\n",
    "plt.xlabel(\"By\")\n",
    "plt.ylabel(\"Antall manglende rader\")\n",
    "plt.xticks(rotation=0)\n",
    "plt.tight_layout()\n",
    "plt.show()"
   ]
  }
 ],
 "metadata": {
  "kernelspec": {
   "display_name": "venv",
   "language": "python",
   "name": "python3"
  },
  "language_info": {
   "codemirror_mode": {
    "name": "ipython",
    "version": 3
   },
   "file_extension": ".py",
   "mimetype": "text/x-python",
   "name": "python",
   "nbconvert_exporter": "python",
   "pygments_lexer": "ipython3",
   "version": "3.13.2"
  }
 },
 "nbformat": 4,
 "nbformat_minor": 5
}
