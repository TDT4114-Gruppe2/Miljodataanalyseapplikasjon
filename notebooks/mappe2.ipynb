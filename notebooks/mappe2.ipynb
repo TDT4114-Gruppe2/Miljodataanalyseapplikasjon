{
 "cells": [
  {
   "cell_type": "markdown",
   "metadata": {},
   "source": [
    "# Mappe del 2\n",
    "Her er all info og besvarelse fra andre del av prosjektet. Denne delen har fokusert på å ta i bruk dataene hentet ut og formatterte i første del, for så å visualisere det og lage en enkel prediksjonsmodell. I dette prosjektet er det fokus på  nedbør og å kunne forutsi om det vil regne dagen etterpå eller ikke.\n",
    "\n",
    "## Oppgave 4\n",
    "\n",
    "Første oppgave i andre del av prosjektet fokuserte på analysen av dataene. Her analyseres data og det beregnes gjennomsnitt, median og standardavvik. Dette steget ga et innsyn i dataene og dannet en forståelse som gjorde videre arbeid enklere.\n",
    "\n",
    "## Oppgave 5\n",
    "\n",
    "Analysen av dataene med de statistiske målene ble nyttige for å videre kunne visualisere dataene og se hvordan elementer som nedbør faktisk så ut over flere år. Her ble det i utgangspunktet plottet mye på grunn av et fokus på å forstå enda mer av dataene og hvordan de kunne tas i bruk i siste steg for prediksjon. Det ble mot slutten av prosjektet kuttet ned på mengden visualsering for å holde det ryddig og enkelt.\n",
    "\n",
    "## Oppgave 6\n",
    "\n",
    "Den mest krevende oppgaven om prediksjon er et forsøk på å forutsi nedbør en dag i forveien. Her benyttes to maskinlæringsmodeller, logistisk regresjon og Naive Byes, for å gi en indikasjon på om det vil regne eller ikke. Etter å ha målt nøyaktigheten av hver av modellene viste det seg at logistisk regresjon var mest nøyaktiig. Den ble derfor brukt i siste del av oppgaven som da forteller om det blir regn dagen etterpå eller ikke basert på maksimum- og minimumstemperaturen for dagen i dag.\n",
    "\n",
    "\n",
    "## Generelt\n",
    "\n",
    "### Hvordan FutureWarnings blir undertrykket\n",
    "\n",
    "Vi har valgt å importere warnings for å undertrykke en spesifikk FutureWarning som oppstår når missingno.heatmap() benytter Seaborns interne formaterings‐argument (fmt) som i kommende Matplotlib‐utgaver kan fjernes eller endres. Det finnes ingen annen løsning på kort sikt fordi advarselen stammer fra en intern implementasjon i Seaborn/missingno som vi ikke kan endre direkte i vårt prosjekt. Kompatibiliteten mellom de aktuelle versjonene av Seaborn (0.12.x) og Matplotlib (3.6+) er foreløpig ikke fullstendig avklart upstream, og inntil en offisiell patch er utgitt, er undertrykkelse av akkurat denne advarselen den tryggeste måten å sikre ryddig logging og uforstyrret kjøring av våre notebooks.\n",
    "\n",
    "Vi har sjekket flere kilder—inkludert Seaborn‐dokumentasjon, GitHub‐issues og diskusjonstråder på Stack Overflow—og konkludert med at det per i dag ikke finnes en permanent utgivelse som fjerner bruken av fmt i Seaborns matrix.py eller i missingno. Å oppgradere til Seaborn ≥ 0.13.x eller vente på Missingno ≥ 0.6.0 vil tidligst gi en løsning den dagen de utgir en patch som tar høyde for endringene i Matplotlibs håndtering av annotasjoner.\n",
    "\n",
    "\n",
    "### Håndtering av .env-filen og .gitignore\n",
    "\n",
    "I løpet av prosjektet valgte vi midlertidig å ikke ekskludere .env-filen, med hensikt å pushe den til GitHub slik at alle utviklere enkelt kunne kjøre prosjektet uten ekstra konfigurasjon. Dette bryter med vanlig best practice, siden en .env ofte inneholder sensitiv informasjon, men vår fil inneholdt kun en felles API-nøkkel som brukes for å hente et stort datasett via vårt fetch-script. Vår .gitignore ekskluderte igjennom selve prosjektet blant annet Python-kompilater og cache (pycache, .pyc), Jupyter-checkpoints, nedlastede dataset-filer (.csv, *.json), virtuelle miljøer, logg- og tmp-filer samt OS-spesifikke filer, men ikke .env filen. \n",
    "\n",
    "Rasjonalet bak valget var at datasettet vårt består av flere millioner linjer, og det er ikke praktisk å laste opp disse store filene til repoet. I stedet krever fetch-scriptet at brukeren har en API-nøkkel for å hente dataene dynamisk. Ved å pushe .env tidlig unngikk vi “hardcoded” credentials i koden, samtidig som vi demonstrerte forståelse for environment management og separation of concerns. \n",
    "Etter presisering i forelesning har vi fjernet .env-filen i siste commit og sørget for at .gitignore nå ekskluderer den permanent. Dette sikrer at repoet følger sensur-veiledningens krav til filer i versjonskontroll, samtidig som vi opprettholder god dokumentasjon og versjonshåndtering."
   ]
  }
 ],
 "metadata": {
  "language_info": {
   "name": "python"
  }
 },
 "nbformat": 4,
 "nbformat_minor": 2
}
